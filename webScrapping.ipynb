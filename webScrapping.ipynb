{
 "cells": [
  {
   "cell_type": "code",
   "execution_count": 1,
   "metadata": {},
   "outputs": [],
   "source": [
    "# Selenium Imports here \n",
    "\n",
    "from selenium import webdriver\n",
    "from selenium.webdriver.common.keys import Keys\n",
    "from selenium.webdriver.support import expected_conditions as EC\n",
    "from selenium.webdriver.common.by import By\n",
    "from selenium.webdriver.support.wait import WebDriverWait\n"
   ]
  },
  {
   "cell_type": "code",
   "execution_count": 2,
   "metadata": {},
   "outputs": [],
   "source": [
    "# Other Imports here\n",
    "\n",
    "import os\n",
    "import wget"
   ]
  },
  {
   "cell_type": "markdown",
   "metadata": {},
   "source": [
    "Download Chrome Driver \n",
    "Login to your Instagram Account"
   ]
  },
  {
   "cell_type": "code",
   "execution_count": 3,
   "metadata": {},
   "outputs": [
    {
     "name": "stderr",
     "output_type": "stream",
     "text": [
      "y:\\python\\lib\\site-packages\\ipykernel_launcher.py:4: DeprecationWarning: executable_path has been deprecated, please pass in a Service object\n",
      "  after removing the cwd from sys.path.\n"
     ]
    }
   ],
   "source": [
    "# copy the folder path where your chromedriver is located\n",
    "#  turn every backslash of address into forward slash\n",
    "\n",
    "driver = webdriver.Chrome('E:/Setups/chromedriver_win32/chromedriver.exe')\n",
    "\n",
    "# now we would like the driver to open which specific webpage\n",
    "# place instagram.com in the driver.get() method\n",
    "# ALWAYS USE FORWARD SLASHES !!! \n",
    "\n",
    "driver.get(\"https://www.instagram.com/\")\n",
    "\n",
    "# above line will open Instagram Login Page"
   ]
  },
  {
   "cell_type": "code",
   "execution_count": 4,
   "metadata": {},
   "outputs": [],
   "source": [
    "# Selecting Input Fields on Instagram Login Page\n",
    "# now we need to find the username and password fields\n",
    "# the name of the username field is \"username\"\n",
    "# the name of the password field is \"password\"\n",
    "\n",
    "username = WebDriverWait(driver, 10).until(EC.element_to_be_clickable((By.CSS_SELECTOR, \"input[name='username']\")))\n",
    "\n",
    "password = WebDriverWait(driver, 10).until(EC.element_to_be_clickable((By.CSS_SELECTOR, \"input[name='password']\")))\n",
    "\n",
    "# since we have selected input fields, we will proceed with entering our login\n",
    "\n",
    "# .clear() is used to make sure the Input Fields are empty\n",
    "\n",
    "username.clear()\n",
    "password.clear()\n",
    "\n",
    "# Our own Credentials \n",
    "\n",
    "username.send_keys(\"toxic.aesthetics_\")\n",
    "password.send_keys(\"accountingislove\")\n",
    "\n",
    "# now for button click\n",
    "# selecting this element is not enough, so we have to perform a click action by .click()\n",
    "\n",
    "log_in = WebDriverWait(driver, 10).until(EC.element_to_be_clickable((By.CSS_SELECTOR, \"button[type='submit']\"))).click()\n"
   ]
  },
  {
   "cell_type": "code",
   "execution_count": 5,
   "metadata": {},
   "outputs": [],
   "source": [
    "# now we will be redirected to the home page of Instagram\n",
    "# we will target button, but it is too generic type, instead selecting CSS selector, we will use xpath.\n",
    "# we will target the specific text inside a button to be clicked.\n",
    "\n",
    "notNow = WebDriverWait(driver, 10).until(EC.element_to_be_clickable(( By.XPATH, \"//button[contains(text(), 'Not Now')]\"))).click()\n",
    "\n",
    "# this not Now Button is the one\n",
    "# which pops up when we log in to Instagram\n",
    "\n",
    "notNow2 = WebDriverWait(driver, 10).until(EC.element_to_be_clickable(( By.XPATH, \"//button[contains(text(), 'Not Now')]\"))).click()\n"
   ]
  },
  {
   "cell_type": "code",
   "execution_count": 9,
   "metadata": {},
   "outputs": [],
   "source": [
    "# Search for a Hashtag/ Person in Search Bar\n",
    "# use it's placeholder attribute to find the search bar\n",
    "\n",
    "searchBox =  WebDriverWait(driver, 10).until(EC.element_to_be_clickable((By.CSS_SELECTOR, \"input[placeholder='Search']\")))\n",
    "\n",
    "# Clearing the search box\n",
    "\n",
    "searchBox.clear()\n",
    "\n",
    "keyword = \"#cats\"\n",
    "\n",
    "# now this hashtag is automatically entered but we still need to click it. \n",
    "# there is no button for that, we have to enter the hashtag and press enter\n",
    "\n",
    "searchBox.send_keys(keyword)\n",
    "\n",
    "searchBox.send_keys(Keys.ENTER)\n",
    "searchBox.send_keys(Keys.ENTER)\n"
   ]
  },
  {
   "cell_type": "code",
   "execution_count": 10,
   "metadata": {},
   "outputs": [],
   "source": [
    "# scrolling down the page\n",
    "driver.execute_script(\"window.scrollTo(0, 4000);\")\n"
   ]
  },
  {
   "cell_type": "code",
   "execution_count": 17,
   "metadata": {},
   "outputs": [],
   "source": [
    "\n",
    "#images = driver.find_element(By.CLASS_NAME, \"_aagw\")\n",
    "\n",
    "images = driver.find_elements(By.TAG_NAME,'img')\n",
    "\n"
   ]
  },
  {
   "cell_type": "code",
   "execution_count": 18,
   "metadata": {},
   "outputs": [
    {
     "data": {
      "text/plain": [
       "[<selenium.webdriver.remote.webelement.WebElement (session=\"95476c5cf8cf39aaed8a73d15e9efd34\", element=\"e9bc1a2d-59f2-4f68-96f6-17dd55fd892a\")>,\n",
       " <selenium.webdriver.remote.webelement.WebElement (session=\"95476c5cf8cf39aaed8a73d15e9efd34\", element=\"16206ffe-dc4d-476c-a53a-cb926ba70db5\")>,\n",
       " <selenium.webdriver.remote.webelement.WebElement (session=\"95476c5cf8cf39aaed8a73d15e9efd34\", element=\"0ec3e20c-55b7-49e4-a657-768fbfd10e39\")>,\n",
       " <selenium.webdriver.remote.webelement.WebElement (session=\"95476c5cf8cf39aaed8a73d15e9efd34\", element=\"319154a8-b75b-4306-bafd-7ea8b7fc55e3\")>,\n",
       " <selenium.webdriver.remote.webelement.WebElement (session=\"95476c5cf8cf39aaed8a73d15e9efd34\", element=\"f008c3a5-cf44-4e42-a5cf-49e48ec351bf\")>,\n",
       " <selenium.webdriver.remote.webelement.WebElement (session=\"95476c5cf8cf39aaed8a73d15e9efd34\", element=\"5bddba9f-a38c-4509-bd06-683b2d78b52c\")>,\n",
       " <selenium.webdriver.remote.webelement.WebElement (session=\"95476c5cf8cf39aaed8a73d15e9efd34\", element=\"7288bd4f-6c18-469d-abc3-dc9d31d2b974\")>,\n",
       " <selenium.webdriver.remote.webelement.WebElement (session=\"95476c5cf8cf39aaed8a73d15e9efd34\", element=\"6f0b26cb-158e-47e2-8081-ca5ddd938a97\")>,\n",
       " <selenium.webdriver.remote.webelement.WebElement (session=\"95476c5cf8cf39aaed8a73d15e9efd34\", element=\"04ad2863-031c-442e-8598-5b2eaf97de90\")>,\n",
       " <selenium.webdriver.remote.webelement.WebElement (session=\"95476c5cf8cf39aaed8a73d15e9efd34\", element=\"3a4c0402-0328-4268-b7be-970a3eee442d\")>,\n",
       " <selenium.webdriver.remote.webelement.WebElement (session=\"95476c5cf8cf39aaed8a73d15e9efd34\", element=\"7717d268-d9f3-45d0-b6a4-d670cec469de\")>,\n",
       " <selenium.webdriver.remote.webelement.WebElement (session=\"95476c5cf8cf39aaed8a73d15e9efd34\", element=\"fececdad-1015-4cca-8ee0-682737b67023\")>,\n",
       " <selenium.webdriver.remote.webelement.WebElement (session=\"95476c5cf8cf39aaed8a73d15e9efd34\", element=\"8ce99717-54a1-4795-a9b7-cc4a3d9cb175\")>,\n",
       " <selenium.webdriver.remote.webelement.WebElement (session=\"95476c5cf8cf39aaed8a73d15e9efd34\", element=\"1438ee43-2e9d-4d60-b7dd-a5ba3bca5e1f\")>,\n",
       " <selenium.webdriver.remote.webelement.WebElement (session=\"95476c5cf8cf39aaed8a73d15e9efd34\", element=\"6ee59de3-8611-4754-9915-90f6b527b13b\")>,\n",
       " <selenium.webdriver.remote.webelement.WebElement (session=\"95476c5cf8cf39aaed8a73d15e9efd34\", element=\"a3dfc56a-e150-41dc-a801-01140c76d182\")>,\n",
       " <selenium.webdriver.remote.webelement.WebElement (session=\"95476c5cf8cf39aaed8a73d15e9efd34\", element=\"b2d1d193-6fbb-43ec-a14f-74db129eff62\")>,\n",
       " <selenium.webdriver.remote.webelement.WebElement (session=\"95476c5cf8cf39aaed8a73d15e9efd34\", element=\"97a14e5b-0755-4424-b63a-ec4458e67bac\")>,\n",
       " <selenium.webdriver.remote.webelement.WebElement (session=\"95476c5cf8cf39aaed8a73d15e9efd34\", element=\"6897126d-6c45-4cc6-858d-1e48c4c9fc37\")>,\n",
       " <selenium.webdriver.remote.webelement.WebElement (session=\"95476c5cf8cf39aaed8a73d15e9efd34\", element=\"d36e57f3-7bfe-4741-8391-34ef82ce7354\")>,\n",
       " <selenium.webdriver.remote.webelement.WebElement (session=\"95476c5cf8cf39aaed8a73d15e9efd34\", element=\"610dd43d-407c-4da0-a409-9f1fc5a93ad5\")>,\n",
       " <selenium.webdriver.remote.webelement.WebElement (session=\"95476c5cf8cf39aaed8a73d15e9efd34\", element=\"d6992010-c0fb-4238-85c3-d9e97537c0a4\")>,\n",
       " <selenium.webdriver.remote.webelement.WebElement (session=\"95476c5cf8cf39aaed8a73d15e9efd34\", element=\"312644ab-882d-41fa-8c45-31946a8663f0\")>,\n",
       " <selenium.webdriver.remote.webelement.WebElement (session=\"95476c5cf8cf39aaed8a73d15e9efd34\", element=\"3e108625-d760-45db-958a-77817f453623\")>,\n",
       " <selenium.webdriver.remote.webelement.WebElement (session=\"95476c5cf8cf39aaed8a73d15e9efd34\", element=\"062dfad9-dfb6-4f7b-b076-dd103ca90bcd\")>,\n",
       " <selenium.webdriver.remote.webelement.WebElement (session=\"95476c5cf8cf39aaed8a73d15e9efd34\", element=\"568c6c5e-551b-4a64-bc6b-022f28f3fecb\")>,\n",
       " <selenium.webdriver.remote.webelement.WebElement (session=\"95476c5cf8cf39aaed8a73d15e9efd34\", element=\"4d95ac1e-b085-45ca-bcee-72a1d57c7426\")>,\n",
       " <selenium.webdriver.remote.webelement.WebElement (session=\"95476c5cf8cf39aaed8a73d15e9efd34\", element=\"884fcb3a-7e05-4ff1-9694-4456dec3a7ad\")>,\n",
       " <selenium.webdriver.remote.webelement.WebElement (session=\"95476c5cf8cf39aaed8a73d15e9efd34\", element=\"d720028c-dbb9-473f-a032-0ef79a9f38f1\")>,\n",
       " <selenium.webdriver.remote.webelement.WebElement (session=\"95476c5cf8cf39aaed8a73d15e9efd34\", element=\"bab6f90b-0f5c-4877-b5ba-fee3c2eea1a7\")>,\n",
       " <selenium.webdriver.remote.webelement.WebElement (session=\"95476c5cf8cf39aaed8a73d15e9efd34\", element=\"087e9162-d73f-4b56-8d11-7199176e1077\")>,\n",
       " <selenium.webdriver.remote.webelement.WebElement (session=\"95476c5cf8cf39aaed8a73d15e9efd34\", element=\"b006ac45-d549-46aa-8fc8-d5d69d21c2df\")>,\n",
       " <selenium.webdriver.remote.webelement.WebElement (session=\"95476c5cf8cf39aaed8a73d15e9efd34\", element=\"d96d3a73-9e46-4841-aff6-aecb1fe3b3d0\")>,\n",
       " <selenium.webdriver.remote.webelement.WebElement (session=\"95476c5cf8cf39aaed8a73d15e9efd34\", element=\"69392bc1-09b6-4d12-b37d-114a0e0d992f\")>,\n",
       " <selenium.webdriver.remote.webelement.WebElement (session=\"95476c5cf8cf39aaed8a73d15e9efd34\", element=\"10dde0f4-065c-469c-906c-7f7e26f974b5\")>]"
      ]
     },
     "execution_count": 18,
     "metadata": {},
     "output_type": "execute_result"
    }
   ],
   "source": [
    "images "
   ]
  },
  {
   "cell_type": "code",
   "execution_count": null,
   "metadata": {},
   "outputs": [],
   "source": []
  }
 ],
 "metadata": {
  "kernelspec": {
   "display_name": "Python 3.7.7 64-bit",
   "language": "python",
   "name": "python3"
  },
  "language_info": {
   "codemirror_mode": {
    "name": "ipython",
    "version": 3
   },
   "file_extension": ".py",
   "mimetype": "text/x-python",
   "name": "python",
   "nbconvert_exporter": "python",
   "pygments_lexer": "ipython3",
   "version": "3.7.7"
  },
  "orig_nbformat": 4,
  "vscode": {
   "interpreter": {
    "hash": "69713e280fccb9aa802931bf1b98f79efcfe938b3ab1e86cc85b2e647522a81d"
   }
  }
 },
 "nbformat": 4,
 "nbformat_minor": 2
}
