{
 "cells": [
  {
   "cell_type": "code",
   "execution_count": 3,
   "metadata": {},
   "outputs": [],
   "source": [
    "# Selenium Imports here \n",
    "\n",
    "from selenium import webdriver\n",
    "from selenium.webdriver.common.keys import Keys\n",
    "from selenium.webdriver.support import expected_conditions as EC\n",
    "from selenium.webdriver.common.by import By\n",
    "from selenium.webdriver.support.wait import WebDriverWait\n"
   ]
  },
  {
   "cell_type": "code",
   "execution_count": 5,
   "metadata": {},
   "outputs": [],
   "source": [
    "# Other Imports here\n",
    "\n",
    "import os\n",
    "import wget"
   ]
  },
  {
   "cell_type": "markdown",
   "metadata": {},
   "source": [
    "Download Chrome Driver \n",
    "Login to your Instagram Account"
   ]
  },
  {
   "cell_type": "code",
   "execution_count": 6,
   "metadata": {},
   "outputs": [
    {
     "name": "stderr",
     "output_type": "stream",
     "text": [
      "y:\\python\\lib\\site-packages\\ipykernel_launcher.py:4: DeprecationWarning: executable_path has been deprecated, please pass in a Service object\n",
      "  after removing the cwd from sys.path.\n"
     ]
    }
   ],
   "source": [
    "# copy the folder path where your chromedriver is located\n",
    "#  turn every backslash of address into forward slash\n",
    "\n",
    "driver = webdriver.Chrome('E:/Setups/chromedriver_win32/chromedriver.exe')\n",
    "\n",
    "# now we would like the driver to open which specific webpage\n",
    "# place instagram.com in the driver.get() method\n",
    "# ALWAYS USE FORWARD SLASHES !!! \n",
    "\n",
    "driver.get(\"https://www.instagram.com/\")\n",
    "\n",
    "# above line will open Instagram Login Page"
   ]
  },
  {
   "cell_type": "code",
   "execution_count": 7,
   "metadata": {},
   "outputs": [],
   "source": [
    "# Selecting Input Fields on Instagram Login Page\n",
    "# now we need to find the username and password fields\n",
    "# the name of the username field is \"username\"\n",
    "# the name of the password field is \"password\"\n",
    "\n",
    "username = WebDriverWait(driver, 10).until(EC.element_to_be_clickable((By.CSS_SELECTOR, \"input[name='username']\")))\n",
    "\n",
    "password = WebDriverWait(driver, 10).until(EC.element_to_be_clickable((By.CSS_SELECTOR, \"input[name='password']\")))\n",
    "\n",
    "# since we have selected input fields, we will proceed with entering our login\n",
    "\n",
    "# .clear() is used to make sure the Input Fields are empty\n",
    "\n",
    "username.clear()\n",
    "password.clear()\n",
    "\n",
    "# Our own Credentials \n",
    "\n",
    "username.send_keys(\"toxic.aesthetics_\")\n",
    "password.send_keys(\"\")\n",
    "\n",
    "# now for button click\n",
    "# selecting this element is not enough, so we have to perform a click action by .click()\n",
    "\n",
    "log_in = WebDriverWait(driver, 10).until(EC.element_to_be_clickable((By.CSS_SELECTOR, \"button[type='submit']\"))).click()\n"
   ]
  },
  {
   "cell_type": "code",
   "execution_count": 9,
   "metadata": {},
   "outputs": [
    {
     "ename": "TimeoutException",
     "evalue": "Message: \nStacktrace:\nBacktrace:\n\tOrdinal0 [0x010F78B3+2193587]\n\tOrdinal0 [0x01090681+1771137]\n\tOrdinal0 [0x00FA41A8+803240]\n\tOrdinal0 [0x00FD24A0+992416]\n\tOrdinal0 [0x00FD273B+993083]\n\tOrdinal0 [0x00FFF7C2+1177538]\n\tOrdinal0 [0x00FED7F4+1103860]\n\tOrdinal0 [0x00FFDAE2+1170146]\n\tOrdinal0 [0x00FED5C6+1103302]\n\tOrdinal0 [0x00FC77E0+948192]\n\tOrdinal0 [0x00FC86E6+952038]\n\tGetHandleVerifier [0x013A0CB2+2738370]\n\tGetHandleVerifier [0x013921B8+2678216]\n\tGetHandleVerifier [0x011817AA+512954]\n\tGetHandleVerifier [0x01180856+509030]\n\tOrdinal0 [0x0109743B+1799227]\n\tOrdinal0 [0x0109BB68+1817448]\n\tOrdinal0 [0x0109BC55+1817685]\n\tOrdinal0 [0x010A5230+1856048]\n\tBaseThreadInitThunk [0x751DFA29+25]\n\tRtlGetAppContainerNamedObjectPath [0x77027A9E+286]\n\tRtlGetAppContainerNamedObjectPath [0x77027A6E+238]\n",
     "output_type": "error",
     "traceback": [
      "\u001b[1;31m---------------------------------------------------------------------------\u001b[0m",
      "\u001b[1;31mTimeoutException\u001b[0m                          Traceback (most recent call last)",
      "\u001b[1;32m~\\AppData\\Local\\Temp\\ipykernel_20860\\3533789417.py\u001b[0m in \u001b[0;36m<module>\u001b[1;34m\u001b[0m\n\u001b[0;32m      7\u001b[0m \u001b[1;31m# this not Now Button is the one which pops up when we log in to Instagram\u001b[0m\u001b[1;33m\u001b[0m\u001b[1;33m\u001b[0m\u001b[1;33m\u001b[0m\u001b[0m\n\u001b[0;32m      8\u001b[0m \u001b[1;33m\u001b[0m\u001b[0m\n\u001b[1;32m----> 9\u001b[1;33m \u001b[0mnotNow2\u001b[0m \u001b[1;33m=\u001b[0m \u001b[0mWebDriverWait\u001b[0m\u001b[1;33m(\u001b[0m\u001b[0mdriver\u001b[0m\u001b[1;33m,\u001b[0m \u001b[1;36m10\u001b[0m\u001b[1;33m)\u001b[0m\u001b[1;33m.\u001b[0m\u001b[0muntil\u001b[0m\u001b[1;33m(\u001b[0m\u001b[0mEC\u001b[0m\u001b[1;33m.\u001b[0m\u001b[0melement_to_be_clickable\u001b[0m\u001b[1;33m(\u001b[0m\u001b[1;33m(\u001b[0m \u001b[0mBy\u001b[0m\u001b[1;33m.\u001b[0m\u001b[0mXPATH\u001b[0m\u001b[1;33m,\u001b[0m \u001b[1;34m\"//button[contains(text(), 'Not Now')]\"\u001b[0m\u001b[1;33m)\u001b[0m\u001b[1;33m)\u001b[0m\u001b[1;33m)\u001b[0m\u001b[1;33m.\u001b[0m\u001b[0mclick\u001b[0m\u001b[1;33m(\u001b[0m\u001b[1;33m)\u001b[0m\u001b[1;33m\u001b[0m\u001b[1;33m\u001b[0m\u001b[0m\n\u001b[0m",
      "\u001b[1;32my:\\python\\lib\\site-packages\\selenium\\webdriver\\support\\wait.py\u001b[0m in \u001b[0;36muntil\u001b[1;34m(self, method, message)\u001b[0m\n\u001b[0;32m     88\u001b[0m             \u001b[1;32mif\u001b[0m \u001b[0mtime\u001b[0m\u001b[1;33m.\u001b[0m\u001b[0mmonotonic\u001b[0m\u001b[1;33m(\u001b[0m\u001b[1;33m)\u001b[0m \u001b[1;33m>\u001b[0m \u001b[0mend_time\u001b[0m\u001b[1;33m:\u001b[0m\u001b[1;33m\u001b[0m\u001b[1;33m\u001b[0m\u001b[0m\n\u001b[0;32m     89\u001b[0m                 \u001b[1;32mbreak\u001b[0m\u001b[1;33m\u001b[0m\u001b[1;33m\u001b[0m\u001b[0m\n\u001b[1;32m---> 90\u001b[1;33m         \u001b[1;32mraise\u001b[0m \u001b[0mTimeoutException\u001b[0m\u001b[1;33m(\u001b[0m\u001b[0mmessage\u001b[0m\u001b[1;33m,\u001b[0m \u001b[0mscreen\u001b[0m\u001b[1;33m,\u001b[0m \u001b[0mstacktrace\u001b[0m\u001b[1;33m)\u001b[0m\u001b[1;33m\u001b[0m\u001b[1;33m\u001b[0m\u001b[0m\n\u001b[0m\u001b[0;32m     91\u001b[0m \u001b[1;33m\u001b[0m\u001b[0m\n\u001b[0;32m     92\u001b[0m     \u001b[1;32mdef\u001b[0m \u001b[0muntil_not\u001b[0m\u001b[1;33m(\u001b[0m\u001b[0mself\u001b[0m\u001b[1;33m,\u001b[0m \u001b[0mmethod\u001b[0m\u001b[1;33m,\u001b[0m \u001b[0mmessage\u001b[0m\u001b[1;33m:\u001b[0m \u001b[0mstr\u001b[0m \u001b[1;33m=\u001b[0m \u001b[1;34m\"\"\u001b[0m\u001b[1;33m)\u001b[0m\u001b[1;33m:\u001b[0m\u001b[1;33m\u001b[0m\u001b[1;33m\u001b[0m\u001b[0m\n",
      "\u001b[1;31mTimeoutException\u001b[0m: Message: \nStacktrace:\nBacktrace:\n\tOrdinal0 [0x010F78B3+2193587]\n\tOrdinal0 [0x01090681+1771137]\n\tOrdinal0 [0x00FA41A8+803240]\n\tOrdinal0 [0x00FD24A0+992416]\n\tOrdinal0 [0x00FD273B+993083]\n\tOrdinal0 [0x00FFF7C2+1177538]\n\tOrdinal0 [0x00FED7F4+1103860]\n\tOrdinal0 [0x00FFDAE2+1170146]\n\tOrdinal0 [0x00FED5C6+1103302]\n\tOrdinal0 [0x00FC77E0+948192]\n\tOrdinal0 [0x00FC86E6+952038]\n\tGetHandleVerifier [0x013A0CB2+2738370]\n\tGetHandleVerifier [0x013921B8+2678216]\n\tGetHandleVerifier [0x011817AA+512954]\n\tGetHandleVerifier [0x01180856+509030]\n\tOrdinal0 [0x0109743B+1799227]\n\tOrdinal0 [0x0109BB68+1817448]\n\tOrdinal0 [0x0109BC55+1817685]\n\tOrdinal0 [0x010A5230+1856048]\n\tBaseThreadInitThunk [0x751DFA29+25]\n\tRtlGetAppContainerNamedObjectPath [0x77027A9E+286]\n\tRtlGetAppContainerNamedObjectPath [0x77027A6E+238]\n"
     ]
    }
   ],
   "source": [
    "# now we will be redirected to the home page of Instagram\n",
    "# we will target button, but it is too generic type, instead selecting CSS selector, we will use xpath.\n",
    "# we will target the specific text inside a button to be clicked.\n",
    "\n",
    "notNow = WebDriverWait(driver, 10).until(EC.element_to_be_clickable(( By.XPATH, \"//button[contains(text(), 'Not Now')]\"))).click()\n",
    "\n",
    "# this not Now Button is the one which pops up when we log in to Instagram\n",
    "\n",
    "notNow2 = WebDriverWait(driver, 10).until(EC.element_to_be_clickable(( By.XPATH, \"//button[contains(text(), 'Not Now')]\"))).click()\n"
   ]
  },
  {
   "cell_type": "code",
   "execution_count": null,
   "metadata": {},
   "outputs": [],
   "source": [
    "# Search for a Hashtag/ Person in Search Bar\n",
    "# use it's placeholder attribute to find the search bar\n",
    "\n",
    "searchBox =  WebDriverWait(driver, 10).until(EC.element_to_be_clickable((By.CSS_SELECTOR, \"input[placeholder='Search']\")))\n",
    "\n",
    "# Clearing the search box\n",
    "\n",
    "searchBox.clear()\n",
    "\n",
    "keyword = \"#cat\"\n"
   ]
  }
 ],
 "metadata": {
  "kernelspec": {
   "display_name": "Python 3.7.7 64-bit",
   "language": "python",
   "name": "python3"
  },
  "language_info": {
   "codemirror_mode": {
    "name": "ipython",
    "version": 3
   },
   "file_extension": ".py",
   "mimetype": "text/x-python",
   "name": "python",
   "nbconvert_exporter": "python",
   "pygments_lexer": "ipython3",
   "version": "3.7.7"
  },
  "orig_nbformat": 4,
  "vscode": {
   "interpreter": {
    "hash": "69713e280fccb9aa802931bf1b98f79efcfe938b3ab1e86cc85b2e647522a81d"
   }
  }
 },
 "nbformat": 4,
 "nbformat_minor": 2
}
