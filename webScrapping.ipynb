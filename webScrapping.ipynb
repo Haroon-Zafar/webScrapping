{
 "cells": [
  {
   "cell_type": "code",
   "execution_count": 3,
   "metadata": {},
   "outputs": [],
   "source": [
    "# Selenium Imports here \n",
    "\n",
    "from selenium import webdriver\n",
    "from selenium.webdriver.common.keys import Keys\n",
    "from selenium.webdriver.support import expected_conditions as EC\n",
    "from selenium.webdriver.common.by import By\n",
    "from selenium.webdriver.support.wait import WebDriverWait\n"
   ]
  },
  {
   "cell_type": "code",
   "execution_count": 5,
   "metadata": {},
   "outputs": [],
   "source": [
    "# Other Imports here\n",
    "\n",
    "import os\n",
    "import wget"
   ]
  },
  {
   "cell_type": "markdown",
   "metadata": {},
   "source": [
    "Download Chrome Driver \n",
    "Login to your Instagram Account"
   ]
  },
  {
   "cell_type": "code",
   "execution_count": 6,
   "metadata": {},
   "outputs": [
    {
     "name": "stderr",
     "output_type": "stream",
     "text": [
      "y:\\python\\lib\\site-packages\\ipykernel_launcher.py:4: DeprecationWarning: executable_path has been deprecated, please pass in a Service object\n",
      "  after removing the cwd from sys.path.\n"
     ]
    }
   ],
   "source": [
    "# copy the folder path where your chromedriver is located\n",
    "#  turn every backslash of address into forward slash\n",
    "\n",
    "driver = webdriver.Chrome('E:/Setups/chromedriver_win32/chromedriver.exe')\n",
    "\n",
    "# now we would like the driver to open which specific webpage\n",
    "# place instagram.com in the driver.get() method\n",
    "# ALWAYS USE FORWARD SLASHES !!! \n",
    "\n",
    "driver.get(\"https://www.instagram.com/\")\n",
    "\n",
    "# above line will open Instagram Login Page"
   ]
  },
  {
   "cell_type": "code",
   "execution_count": 7,
   "metadata": {},
   "outputs": [],
   "source": [
    "# Selecting Input Fields on Instagram Login Page\n",
    "# now we need to find the username and password fields\n",
    "# the name of the username field is \"username\"\n",
    "# the name of the password field is \"password\"\n",
    "\n",
    "username = WebDriverWait(driver, 10).until(EC.element_to_be_clickable((By.CSS_SELECTOR, \"input[name='username']\")))\n",
    "\n",
    "password = WebDriverWait(driver, 10).until(EC.element_to_be_clickable((By.CSS_SELECTOR, \"input[name='password']\")))\n",
    "\n",
    "# since we have selected input fields, we will proceed with entering our login\n",
    "\n",
    "# .clear() is used to make sure the Input Fields are empty\n",
    "\n",
    "username.clear()\n",
    "password.clear()\n",
    "\n",
    "# Our own Credentials \n",
    "\n",
    "username.send_keys(\"toxic.aesthetics_\")\n",
    "password.send_keys(\"\")\n",
    "\n",
    "# now for button click\n",
    "# selecting this element is not enough, so we have to perform a click action by .click()\n",
    "\n",
    "log_in = WebDriverWait(driver, 10).until(EC.element_to_be_clickable((By.CSS_SELECTOR, \"button[type='submit']\"))).click()\n"
   ]
  },
  {
   "cell_type": "code",
   "execution_count": null,
   "metadata": {},
   "outputs": [],
   "source": []
  }
 ],
 "metadata": {
  "kernelspec": {
   "display_name": "Python 3.7.7 64-bit",
   "language": "python",
   "name": "python3"
  },
  "language_info": {
   "codemirror_mode": {
    "name": "ipython",
    "version": 3
   },
   "file_extension": ".py",
   "mimetype": "text/x-python",
   "name": "python",
   "nbconvert_exporter": "python",
   "pygments_lexer": "ipython3",
   "version": "3.7.7"
  },
  "orig_nbformat": 4,
  "vscode": {
   "interpreter": {
    "hash": "69713e280fccb9aa802931bf1b98f79efcfe938b3ab1e86cc85b2e647522a81d"
   }
  }
 },
 "nbformat": 4,
 "nbformat_minor": 2
}
